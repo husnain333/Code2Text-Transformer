{
 "cells": [
  {
   "cell_type": "markdown",
   "metadata": {
    "id": "fN7pJARIt9uK"
   },
   "source": [
    "# Loading the libraries"
   ]
  },
  {
   "cell_type": "code",
   "execution_count": 2,
   "metadata": {
    "execution": {
     "iopub.execute_input": "2025-03-05T09:51:45.198075Z",
     "iopub.status.busy": "2025-03-05T09:51:45.197804Z",
     "iopub.status.idle": "2025-03-05T09:51:45.530277Z",
     "shell.execute_reply": "2025-03-05T09:51:45.529335Z",
     "shell.execute_reply.started": "2025-03-05T09:51:45.198055Z"
    },
    "executionInfo": {
     "elapsed": 1499,
     "status": "ok",
     "timestamp": 1604164306003,
     "user": {
      "displayName": "Eduardo Muñoz Sala",
      "photoUrl": "https://lh3.googleusercontent.com/a-/AOh14Gi9gTFB7xfdxQyNiKRUzqE5vwb9WQjQuMtQz5F16w=s64",
      "userId": "13317831924226771761"
     },
     "user_tz": -60
    },
    "id": "ZbcvtPlp3YWu",
    "trusted": true
   },
   "outputs": [],
   "source": [
    "import math\n",
    "import os\n",
    "import gc\n",
    "import time\n",
    "import re\n",
    "\n",
    "import pandas as pd\n",
    "import numpy as np\n",
    "import matplotlib.pyplot as plt"
   ]
  },
  {
   "cell_type": "code",
   "execution_count": 3,
   "metadata": {
    "execution": {
     "iopub.execute_input": "2025-03-05T09:51:47.837289Z",
     "iopub.status.busy": "2025-03-05T09:51:47.836874Z",
     "iopub.status.idle": "2025-03-05T09:52:00.494087Z",
     "shell.execute_reply": "2025-03-05T09:52:00.493101Z",
     "shell.execute_reply.started": "2025-03-05T09:51:47.837266Z"
    },
    "executionInfo": {
     "elapsed": 2911,
     "status": "ok",
     "timestamp": 1604164318361,
     "user": {
      "displayName": "Eduardo Muñoz Sala",
      "photoUrl": "https://lh3.googleusercontent.com/a-/AOh14Gi9gTFB7xfdxQyNiKRUzqE5vwb9WQjQuMtQz5F16w=s64",
      "userId": "13317831924226771761"
     },
     "user_tz": -60
    },
    "id": "P6o_cpZz3y_-",
    "trusted": true
   },
   "outputs": [],
   "source": [
    "import tensorflow as tf\n",
    "\n",
    "from tensorflow.keras import layers\n",
    "from tensorflow.keras import backend as K\n",
    "import tensorflow_datasets as tfds\n",
    "import csv\n",
    "from tensorflow.keras.preprocessing.text import Tokenizer\n",
    "from tensorflow.keras.preprocessing.sequence import pad_sequences"
   ]
  },
  {
   "cell_type": "code",
   "execution_count": 4,
   "metadata": {
    "execution": {
     "iopub.execute_input": "2025-03-05T09:52:00.496361Z",
     "iopub.status.busy": "2025-03-05T09:52:00.495602Z",
     "iopub.status.idle": "2025-03-05T09:52:00.500546Z",
     "shell.execute_reply": "2025-03-05T09:52:00.499608Z",
     "shell.execute_reply.started": "2025-03-05T09:52:00.496219Z"
    },
    "trusted": true
   },
   "outputs": [],
   "source": [
    "### Parameters for our model\n",
    "INPUT_COLUMN = 'code'\n",
    "TARGET_COLUMN = 'text'\n",
    "NUM_SAMPLES = 100000 #40000\n",
    "MAX_VOCAB_SIZE = 2**14\n",
    "\n",
    "BATCH_SIZE = 64  # Batch size for training.\n",
    "EPOCHS = 3  # Number of epochs to train for.\n",
    "MAX_LENGTH = 15"
   ]
  },
  {
   "cell_type": "code",
   "execution_count": 5,
   "metadata": {
    "execution": {
     "iopub.execute_input": "2025-03-05T09:52:00.502385Z",
     "iopub.status.busy": "2025-03-05T09:52:00.502049Z",
     "iopub.status.idle": "2025-03-05T09:52:00.698963Z",
     "shell.execute_reply": "2025-03-05T09:52:00.698246Z",
     "shell.execute_reply.started": "2025-03-05T09:52:00.502353Z"
    },
    "executionInfo": {
     "elapsed": 984,
     "status": "ok",
     "timestamp": 1604164327404,
     "user": {
      "displayName": "Eduardo Muñoz Sala",
      "photoUrl": "https://lh3.googleusercontent.com/a-/AOh14Gi9gTFB7xfdxQyNiKRUzqE5vwb9WQjQuMtQz5F16w=s64",
      "userId": "13317831924226771761"
     },
     "user_tz": -60
    },
    "id": "rTr3QS6_5tBO",
    "trusted": true
   },
   "outputs": [],
   "source": [
    "\n",
    "\n",
    "# Global parameters\n",
    "root_folder='/content/drive'\n",
    "data_folder_name='My Drive/datasets/ara_eng_translations'\n",
    "checkpoint_folder = \"My Drive/Projects/Transformer_NMT/ckpt/\"\n",
    "df = pd.read_csv(\"/kaggle/input/code2text/combined_columns_filtered.tsv\",\n",
    "    sep=\"\\t\", \n",
    "    header=None,\n",
    "    names=[TARGET_COLUMN,INPUT_COLUMN]\n",
    ")\n",
    "\n",
    "checkpoint_path = os.path.abspath(os.path.join(root_folder, checkpoint_folder))\n",
    "\n",
    "\n"
   ]
  },
  {
   "cell_type": "code",
   "execution_count": 6,
   "metadata": {
    "execution": {
     "iopub.execute_input": "2025-03-05T09:52:05.410533Z",
     "iopub.status.busy": "2025-03-05T09:52:05.410225Z",
     "iopub.status.idle": "2025-03-05T09:52:05.414564Z",
     "shell.execute_reply": "2025-03-05T09:52:05.413824Z",
     "shell.execute_reply.started": "2025-03-05T09:52:05.410511Z"
    },
    "trusted": true
   },
   "outputs": [],
   "source": [
    "df = df.iloc[:NUM_SAMPLES]"
   ]
  },
  {
   "cell_type": "code",
   "execution_count": 7,
   "metadata": {
    "execution": {
     "iopub.execute_input": "2025-03-05T09:52:08.848475Z",
     "iopub.status.busy": "2025-03-05T09:52:08.848171Z",
     "iopub.status.idle": "2025-03-05T09:52:08.859009Z",
     "shell.execute_reply": "2025-03-05T09:52:08.858326Z",
     "shell.execute_reply.started": "2025-03-05T09:52:08.848454Z"
    },
    "executionInfo": {
     "elapsed": 2367,
     "status": "ok",
     "timestamp": 1604164376760,
     "user": {
      "displayName": "Eduardo Muñoz Sala",
      "photoUrl": "https://lh3.googleusercontent.com/a-/AOh14Gi9gTFB7xfdxQyNiKRUzqE5vwb9WQjQuMtQz5F16w=s64",
      "userId": "13317831924226771761"
     },
     "user_tz": -60
    },
    "id": "fjKW8DnObtvl",
    "trusted": true
   },
   "outputs": [],
   "source": [
    "input_data = df[INPUT_COLUMN].tolist()  \n",
    "target_data = df[TARGET_COLUMN].tolist() "
   ]
  },
  {
   "cell_type": "code",
   "execution_count": 8,
   "metadata": {
    "colab": {
     "base_uri": "https://localhost:8080/"
    },
    "execution": {
     "iopub.execute_input": "2025-03-05T09:52:09.439695Z",
     "iopub.status.busy": "2025-03-05T09:52:09.439415Z",
     "iopub.status.idle": "2025-03-05T09:52:09.444224Z",
     "shell.execute_reply": "2025-03-05T09:52:09.443570Z",
     "shell.execute_reply.started": "2025-03-05T09:52:09.439673Z"
    },
    "executionInfo": {
     "elapsed": 3604,
     "status": "ok",
     "timestamp": 1604164410474,
     "user": {
      "displayName": "Eduardo Muñoz Sala",
      "photoUrl": "https://lh3.googleusercontent.com/a-/AOh14Gi9gTFB7xfdxQyNiKRUzqE5vwb9WQjQuMtQz5F16w=s64",
      "userId": "13317831924226771761"
     },
     "user_tz": -60
    },
    "id": "0G8Wa9FBdy5Y",
    "outputId": "b33db2f5-5781-4eb6-bb72-5af73d1d823e",
    "trusted": true
   },
   "outputs": [
    {
     "name": "stdout",
     "output_type": "stream",
     "text": [
      "Number of sentences: 99393\n",
      "['code', 'int c, small, big, a, l;', 'cin >> c >> small >> big >> a >> l;', 'int cnt = 0;', 'int p = 0;']\n",
      "['text', 'declare integers c, small, big, a, l', 'read c, small, big, a, l', 'set cnt to 0', 'set p to 0']\n"
     ]
    }
   ],
   "source": [
    "# Print sample sentences\n",
    "print('Number of sentences:', len(input_data))\n",
    "print(input_data[:5])  # Sample English sentences\n",
    "print(target_data[:5])  # Sample Arabic translations"
   ]
  },
  {
   "cell_type": "code",
   "execution_count": 9,
   "metadata": {
    "colab": {
     "base_uri": "https://localhost:8080/"
    },
    "execution": {
     "iopub.execute_input": "2025-03-05T09:52:12.507743Z",
     "iopub.status.busy": "2025-03-05T09:52:12.507411Z",
     "iopub.status.idle": "2025-03-05T09:52:12.685496Z",
     "shell.execute_reply": "2025-03-05T09:52:12.684465Z",
     "shell.execute_reply.started": "2025-03-05T09:52:12.507717Z"
    },
    "executionInfo": {
     "elapsed": 1072,
     "status": "ok",
     "timestamp": 1604164414243,
     "user": {
      "displayName": "Eduardo Muñoz Sala",
      "photoUrl": "https://lh3.googleusercontent.com/a-/AOh14Gi9gTFB7xfdxQyNiKRUzqE5vwb9WQjQuMtQz5F16w=s64",
      "userId": "13317831924226771761"
     },
     "user_tz": -60
    },
    "id": "TMAFFdpIyNZd",
    "outputId": "db773f7b-1723-47a4-f7a5-3f3b4572a8a6",
    "trusted": true
   },
   "outputs": [
    {
     "data": {
      "text/plain": [
       "0"
      ]
     },
     "execution_count": 9,
     "metadata": {},
     "output_type": "execute_result"
    }
   ],
   "source": [
    "#Delete the dataframe and release the memory (if it is possible)\n",
    "del df\n",
    "gc.collect()"
   ]
  },
  {
   "cell_type": "code",
   "execution_count": 10,
   "metadata": {
    "execution": {
     "iopub.execute_input": "2025-03-05T09:52:14.946340Z",
     "iopub.status.busy": "2025-03-05T09:52:14.945960Z",
     "iopub.status.idle": "2025-03-05T09:52:14.951555Z",
     "shell.execute_reply": "2025-03-05T09:52:14.950773Z",
     "shell.execute_reply.started": "2025-03-05T09:52:14.946313Z"
    },
    "executionInfo": {
     "elapsed": 909,
     "status": "ok",
     "timestamp": 1604164418564,
     "user": {
      "displayName": "Eduardo Muñoz Sala",
      "photoUrl": "https://lh3.googleusercontent.com/a-/AOh14Gi9gTFB7xfdxQyNiKRUzqE5vwb9WQjQuMtQz5F16w=s64",
      "userId": "13317831924226771761"
     },
     "user_tz": -60
    },
    "id": "khsaxokjofHr",
    "trusted": true
   },
   "outputs": [],
   "source": [
    "def subword_tokenize(corpus, vocab_size, max_length):\n",
    "  # Create the vocabulary using Subword tokenization\n",
    "  tokenizer_corpus = tfds.deprecated.text.SubwordTextEncoder.build_from_corpus(\n",
    "    corpus, target_vocab_size=vocab_size)\n",
    "  # Get the final vocab size, adding the eos and sos tokens\n",
    "  num_words = tokenizer_corpus.vocab_size + 2\n",
    "  # Set eos and sos token\n",
    "  sos_token = [num_words-2]\n",
    "  eos_token = [num_words-1]\n",
    "  # Tokenize the corpus\n",
    "  sentences = [sos_token + tokenizer_corpus.encode(sentence) + eos_token\n",
    "          for sentence in corpus]\n",
    "  # Identify the index of the sentences longer than max length\n",
    "  idx_to_remove = [count for count, sent in enumerate(sentences)\n",
    "                 if len(sent) > max_length]\n",
    "  #Pad the sentences\n",
    "  sentences = tf.keras.preprocessing.sequence.pad_sequences(sentences,\n",
    "                                                       value=0,\n",
    "                                                       padding='post',\n",
    "                                                       maxlen=max_length)\n",
    "  \n",
    "  return sentences, tokenizer_corpus, num_words, sos_token, eos_token, idx_to_remove\n"
   ]
  },
  {
   "cell_type": "code",
   "execution_count": 11,
   "metadata": {
    "execution": {
     "iopub.execute_input": "2025-03-05T09:52:15.415085Z",
     "iopub.status.busy": "2025-03-05T09:52:15.414808Z",
     "iopub.status.idle": "2025-03-05T09:52:40.100713Z",
     "shell.execute_reply": "2025-03-05T09:52:40.099984Z",
     "shell.execute_reply.started": "2025-03-05T09:52:15.415065Z"
    },
    "executionInfo": {
     "elapsed": 54005,
     "status": "ok",
     "timestamp": 1604164475693,
     "user": {
      "displayName": "Eduardo Muñoz Sala",
      "photoUrl": "https://lh3.googleusercontent.com/a-/AOh14Gi9gTFB7xfdxQyNiKRUzqE5vwb9WQjQuMtQz5F16w=s64",
      "userId": "13317831924226771761"
     },
     "user_tz": -60
    },
    "id": "onrwROJrquij",
    "trusted": true
   },
   "outputs": [],
   "source": [
    "# Tokenize and pad the input sequences\n",
    "encoder_inputs, tokenizer_inputs, num_words_inputs, sos_token_input, eos_token_input, del_idx_inputs= subword_tokenize(input_data, \n",
    "                                                                                                        MAX_VOCAB_SIZE, MAX_LENGTH)\n",
    "# Tokenize and pad the outputs sequences\n",
    "decoder_outputs, tokenizer_outputs, num_words_output, sos_token_output, eos_token_output, del_idx_outputs = subword_tokenize(target_data, \n",
    "                                                                                                        MAX_VOCAB_SIZE, MAX_LENGTH)"
   ]
  },
  {
   "cell_type": "code",
   "execution_count": 12,
   "metadata": {
    "colab": {
     "base_uri": "https://localhost:8080/"
    },
    "execution": {
     "iopub.execute_input": "2025-03-05T09:52:40.102086Z",
     "iopub.status.busy": "2025-03-05T09:52:40.101878Z",
     "iopub.status.idle": "2025-03-05T09:52:40.108291Z",
     "shell.execute_reply": "2025-03-05T09:52:40.107499Z",
     "shell.execute_reply.started": "2025-03-05T09:52:40.102068Z"
    },
    "executionInfo": {
     "elapsed": 1000,
     "status": "ok",
     "timestamp": 1604164485208,
     "user": {
      "displayName": "Eduardo Muñoz Sala",
      "photoUrl": "https://lh3.googleusercontent.com/a-/AOh14Gi9gTFB7xfdxQyNiKRUzqE5vwb9WQjQuMtQz5F16w=s64",
      "userId": "13317831924226771761"
     },
     "user_tz": -60
    },
    "id": "gYtibBaqsAxA",
    "outputId": "abff64f4-e25b-4531-f148-cf7c39cfec94",
    "trusted": true
   },
   "outputs": [
    {
     "name": "stdout",
     "output_type": "stream",
     "text": [
      "[[5931 3173 5932    0    0    0    0    0    0    0    0    0    0    0\n",
      "     0]\n",
      " [5931    3 5774    4 2875    4 1884    4 5772    4 5783 5734 5932    0\n",
      "     0]\n",
      " [5931   12    6 5774    6 2875    6 1884    6 5772    6 5783 5734 5932\n",
      "     0]\n",
      " [5931    3   50    1 5723 5734 5932    0    0    0    0    0    0    0\n",
      "     0]\n",
      " [5931    3 5787    1 5723 5734 5932    0    0    0    0    0    0    0\n",
      "     0]] [5931] [5932]\n",
      "[[9325 1459 9326    0    0    0    0    0    0    0    0    0    0    0\n",
      "     0]\n",
      " [9325   31   46 9168    2 4123    2 2275    2 9166    2 9177 9326    0\n",
      "     0]\n",
      " [9325    9 9168    2 4123    2 2275    2 9166    2 9177 9326    0    0\n",
      "     0]\n",
      " [9325    8  161    1 9117 9326    0    0    0    0    0    0    0    0\n",
      "     0]\n",
      " [9325    8  134    1 9117 9326    0    0    0    0    0    0    0    0\n",
      "     0]] [9325] [9326]\n"
     ]
    }
   ],
   "source": [
    "# Check the tokenize function\n",
    "print(encoder_inputs[:5], sos_token_input, eos_token_input)\n",
    "print(decoder_outputs[:5], sos_token_output, eos_token_output)"
   ]
  },
  {
   "cell_type": "code",
   "execution_count": 13,
   "metadata": {
    "colab": {
     "base_uri": "https://localhost:8080/"
    },
    "execution": {
     "iopub.execute_input": "2025-03-05T09:52:40.110239Z",
     "iopub.status.busy": "2025-03-05T09:52:40.110007Z",
     "iopub.status.idle": "2025-03-05T09:52:40.125974Z",
     "shell.execute_reply": "2025-03-05T09:52:40.125348Z",
     "shell.execute_reply.started": "2025-03-05T09:52:40.110201Z"
    },
    "executionInfo": {
     "elapsed": 987,
     "status": "ok",
     "timestamp": 1604164491249,
     "user": {
      "displayName": "Eduardo Muñoz Sala",
      "photoUrl": "https://lh3.googleusercontent.com/a-/AOh14Gi9gTFB7xfdxQyNiKRUzqE5vwb9WQjQuMtQz5F16w=s64",
      "userId": "13317831924226771761"
     },
     "user_tz": -60
    },
    "id": "VF4l2stYEu2l",
    "outputId": "52b708b7-415b-4a46-a1f4-83673abc2938",
    "trusted": true
   },
   "outputs": [
    {
     "name": "stdout",
     "output_type": "stream",
     "text": [
      "Size of Input Vocabulary:  5933\n",
      "Size of Output Vocabulary:  9327\n"
     ]
    }
   ],
   "source": [
    "print('Size of Input Vocabulary: ', num_words_inputs)\n",
    "print('Size of Output Vocabulary: ', num_words_output)"
   ]
  },
  {
   "cell_type": "code",
   "execution_count": 14,
   "metadata": {
    "execution": {
     "iopub.execute_input": "2025-03-05T09:52:40.127153Z",
     "iopub.status.busy": "2025-03-05T09:52:40.126904Z",
     "iopub.status.idle": "2025-03-05T09:52:41.277263Z",
     "shell.execute_reply": "2025-03-05T09:52:41.276599Z",
     "shell.execute_reply.started": "2025-03-05T09:52:40.127129Z"
    },
    "executionInfo": {
     "elapsed": 6333,
     "status": "ok",
     "timestamp": 1604164511134,
     "user": {
      "displayName": "Eduardo Muñoz Sala",
      "photoUrl": "https://lh3.googleusercontent.com/a-/AOh14Gi9gTFB7xfdxQyNiKRUzqE5vwb9WQjQuMtQz5F16w=s64",
      "userId": "13317831924226771761"
     },
     "user_tz": -60
    },
    "id": "wFxMp3TOIYff",
    "trusted": true
   },
   "outputs": [],
   "source": [
    "# Define a dataset \n",
    "dataset = tf.data.Dataset.from_tensor_slices(\n",
    "    (encoder_inputs, decoder_outputs))\n",
    "dataset = dataset.shuffle(len(input_data), reshuffle_each_iteration=True).batch(\n",
    "    BATCH_SIZE, drop_remainder=True)\n",
    "\n",
    "dataset = dataset.prefetch(tf.data.experimental.AUTOTUNE)"
   ]
  },
  {
   "cell_type": "code",
   "execution_count": 15,
   "metadata": {
    "execution": {
     "iopub.execute_input": "2025-03-05T09:52:41.278198Z",
     "iopub.status.busy": "2025-03-05T09:52:41.277986Z",
     "iopub.status.idle": "2025-03-05T09:52:41.282803Z",
     "shell.execute_reply": "2025-03-05T09:52:41.281939Z",
     "shell.execute_reply.started": "2025-03-05T09:52:41.278180Z"
    },
    "executionInfo": {
     "elapsed": 1003,
     "status": "ok",
     "timestamp": 1604164522271,
     "user": {
      "displayName": "Eduardo Muñoz Sala",
      "photoUrl": "https://lh3.googleusercontent.com/a-/AOh14Gi9gTFB7xfdxQyNiKRUzqE5vwb9WQjQuMtQz5F16w=s64",
      "userId": "13317831924226771761"
     },
     "user_tz": -60
    },
    "id": "2rEoCNJURbrT",
    "trusted": true
   },
   "outputs": [],
   "source": [
    "def scaled_dot_product_attention(queries, keys, values, mask):\n",
    "    # Calculate the dot product, QK_transpose\n",
    "    product = tf.matmul(queries, keys, transpose_b=True)\n",
    "    # Get the scale factor\n",
    "    keys_dim = tf.cast(tf.shape(keys)[-1], tf.float32)\n",
    "    # Apply the scale factor to the dot product\n",
    "    scaled_product = product / tf.math.sqrt(keys_dim)\n",
    "    # Apply masking when it is requiered\n",
    "    if mask is not None:\n",
    "        scaled_product += (mask * -1e9)\n",
    "    # dot product with Values\n",
    "    attention = tf.matmul(tf.nn.softmax(scaled_product, axis=-1), values)\n",
    "    \n",
    "    return attention"
   ]
  },
  {
   "cell_type": "code",
   "execution_count": 16,
   "metadata": {
    "execution": {
     "iopub.execute_input": "2025-03-05T09:52:41.283753Z",
     "iopub.status.busy": "2025-03-05T09:52:41.283495Z",
     "iopub.status.idle": "2025-03-05T09:52:41.297387Z",
     "shell.execute_reply": "2025-03-05T09:52:41.296711Z",
     "shell.execute_reply.started": "2025-03-05T09:52:41.283723Z"
    },
    "executionInfo": {
     "elapsed": 995,
     "status": "ok",
     "timestamp": 1604164525310,
     "user": {
      "displayName": "Eduardo Muñoz Sala",
      "photoUrl": "https://lh3.googleusercontent.com/a-/AOh14Gi9gTFB7xfdxQyNiKRUzqE5vwb9WQjQuMtQz5F16w=s64",
      "userId": "13317831924226771761"
     },
     "user_tz": -60
    },
    "id": "lvq4I9uTX5p7",
    "trusted": true
   },
   "outputs": [],
   "source": [
    "class MultiHeadAttention(layers.Layer):\n",
    "    \n",
    "    def __init__(self, n_heads):\n",
    "        super(MultiHeadAttention, self).__init__()\n",
    "        self.n_heads = n_heads\n",
    "        \n",
    "    def build(self, input_shape):\n",
    "        self.d_model = input_shape[-1]\n",
    "        assert self.d_model % self.n_heads == 0\n",
    "        # Calculate the dimension of every head or projection\n",
    "        self.d_head = self.d_model // self.n_heads\n",
    "        # Set the weight matrices for Q, K and V\n",
    "        self.query_lin = layers.Dense(units=self.d_model)\n",
    "        self.key_lin = layers.Dense(units=self.d_model)\n",
    "        self.value_lin = layers.Dense(units=self.d_model)\n",
    "        # Set the weight matrix for the output of the multi-head attention W0\n",
    "        self.final_lin = layers.Dense(units=self.d_model)\n",
    "        \n",
    "    def split_proj(self, inputs, batch_size): # inputs: (batch_size, seq_length, d_model)\n",
    "        # Set the dimension of the projections\n",
    "        shape = (batch_size,\n",
    "                 -1,\n",
    "                 self.n_heads,\n",
    "                 self.d_head)\n",
    "        # Split the input vectors\n",
    "        splited_inputs = tf.reshape(inputs, shape=shape) # (batch_size, seq_length, nb_proj, d_proj)\n",
    "        return tf.transpose(splited_inputs, perm=[0, 2, 1, 3]) # (batch_size, nb_proj, seq_length, d_proj)\n",
    "    \n",
    "    def call(self, queries, keys, values, mask):\n",
    "        # Get the batch size\n",
    "        batch_size = tf.shape(queries)[0]\n",
    "        # Set the Query, Key and Value matrices\n",
    "        queries = self.query_lin(queries)\n",
    "        keys = self.key_lin(keys)\n",
    "        values = self.value_lin(values)\n",
    "        # Split Q, K y V between the heads or projections\n",
    "        queries = self.split_proj(queries, batch_size)\n",
    "        keys = self.split_proj(keys, batch_size)\n",
    "        values = self.split_proj(values, batch_size)\n",
    "        # Apply the scaled dot product\n",
    "        attention = scaled_dot_product_attention(queries, keys, values, mask)\n",
    "        # Get the attention scores\n",
    "        attention = tf.transpose(attention, perm=[0, 2, 1, 3])\n",
    "        # Concat the h heads or projections\n",
    "        concat_attention = tf.reshape(attention,\n",
    "                                      shape=(batch_size, -1, self.d_model))\n",
    "        # Apply W0 to get the output of the multi-head attention\n",
    "        outputs = self.final_lin(concat_attention)\n",
    "        \n",
    "        return outputs"
   ]
  },
  {
   "cell_type": "markdown",
   "metadata": {
    "id": "7G9C3ucmJ86I"
   },
   "source": [
    "$PE_{(pos,2i)} =\\sin(pos/10000^{2i/dmodel})$\n",
    "\n",
    "$PE_{(pos,2i+1)} =\\cos(pos/10000^{2i/dmodel})$"
   ]
  },
  {
   "cell_type": "code",
   "execution_count": 17,
   "metadata": {
    "execution": {
     "iopub.execute_input": "2025-03-05T09:52:41.298560Z",
     "iopub.status.busy": "2025-03-05T09:52:41.298286Z",
     "iopub.status.idle": "2025-03-05T09:52:41.315194Z",
     "shell.execute_reply": "2025-03-05T09:52:41.314456Z",
     "shell.execute_reply.started": "2025-03-05T09:52:41.298534Z"
    },
    "executionInfo": {
     "elapsed": 968,
     "status": "ok",
     "timestamp": 1604164529236,
     "user": {
      "displayName": "Eduardo Muñoz Sala",
      "photoUrl": "https://lh3.googleusercontent.com/a-/AOh14Gi9gTFB7xfdxQyNiKRUzqE5vwb9WQjQuMtQz5F16w=s64",
      "userId": "13317831924226771761"
     },
     "user_tz": -60
    },
    "id": "e2wc6sYlX0dr",
    "trusted": true
   },
   "outputs": [],
   "source": [
    "class PositionalEncoding(layers.Layer):\n",
    "\n",
    "    def __init__(self):\n",
    "        super(PositionalEncoding, self).__init__()\n",
    "    \n",
    "    def get_angles(self, pos, i, d_model): # pos: (seq_length, 1) i: (1, d_model)\n",
    "        angles = 1 / np.power(10000., (2*(i//2)) / np.float32(d_model))\n",
    "        return pos * angles # (seq_length, d_model)\n",
    "\n",
    "    def call(self, inputs):\n",
    "        # input shape batch_size, seq_length, d_model\n",
    "        seq_length = inputs.shape.as_list()[-2]\n",
    "        d_model = inputs.shape.as_list()[-1]\n",
    "        # Calculate the angles given the input\n",
    "        angles = self.get_angles(np.arange(seq_length)[:, np.newaxis],\n",
    "                                 np.arange(d_model)[np.newaxis, :],\n",
    "                                 d_model)\n",
    "        # Calculate the positional encodings\n",
    "        angles[:, 0::2] = np.sin(angles[:, 0::2])\n",
    "        angles[:, 1::2] = np.cos(angles[:, 1::2])\n",
    "        # Expand the encodings with a new dimension\n",
    "        pos_encoding = angles[np.newaxis, ...]\n",
    "        \n",
    "        return inputs + tf.cast(pos_encoding, tf.float32)"
   ]
  },
  {
   "cell_type": "code",
   "execution_count": 18,
   "metadata": {
    "execution": {
     "iopub.execute_input": "2025-03-05T09:52:41.316991Z",
     "iopub.status.busy": "2025-03-05T09:52:41.316795Z",
     "iopub.status.idle": "2025-03-05T09:52:41.334822Z",
     "shell.execute_reply": "2025-03-05T09:52:41.333995Z",
     "shell.execute_reply.started": "2025-03-05T09:52:41.316975Z"
    },
    "executionInfo": {
     "elapsed": 1003,
     "status": "ok",
     "timestamp": 1604164532307,
     "user": {
      "displayName": "Eduardo Muñoz Sala",
      "photoUrl": "https://lh3.googleusercontent.com/a-/AOh14Gi9gTFB7xfdxQyNiKRUzqE5vwb9WQjQuMtQz5F16w=s64",
      "userId": "13317831924226771761"
     },
     "user_tz": -60
    },
    "id": "UV0ZMH7KT_KZ",
    "trusted": true
   },
   "outputs": [],
   "source": [
    "class EncoderLayer(layers.Layer):\n",
    "    \n",
    "    def __init__(self, FFN_units, n_heads, dropout_rate):\n",
    "        super(EncoderLayer, self).__init__()\n",
    "        # Hidden units of the feed forward component\n",
    "        self.FFN_units = FFN_units\n",
    "        # Set the number of projectios or heads\n",
    "        self.n_heads = n_heads\n",
    "        # Dropout rate\n",
    "        self.dropout_rate = dropout_rate\n",
    "    \n",
    "    def build(self, input_shape):\n",
    "        self.d_model = input_shape[-1]\n",
    "        # Build the multihead layer\n",
    "        self.multi_head_attention = MultiHeadAttention(self.n_heads)\n",
    "        self.dropout_1 = layers.Dropout(rate=self.dropout_rate)\n",
    "        # Layer Normalization\n",
    "        self.norm_1 = layers.LayerNormalization(epsilon=1e-6)\n",
    "        # Fully connected feed forward layer\n",
    "        self.ffn1_relu = layers.Dense(units=self.FFN_units, activation=\"relu\")\n",
    "        self.ffn2 = layers.Dense(units=self.d_model)\n",
    "        self.dropout_2 = layers.Dropout(rate=self.dropout_rate)\n",
    "        # Layer normalization\n",
    "        self.norm_2 = layers.LayerNormalization(epsilon=1e-6)\n",
    "        \n",
    "    def call(self, inputs, mask, training):\n",
    "        # Forward pass of the multi-head attention\n",
    "        attention = self.multi_head_attention(inputs,\n",
    "                                              inputs,\n",
    "                                              inputs,\n",
    "                                              mask)\n",
    "        attention = self.dropout_1(attention, training=training)\n",
    "        # Call to the residual connection and layer normalization\n",
    "        attention = self.norm_1(attention + inputs)\n",
    "        # Call to the FC layer\n",
    "        outputs = self.ffn1_relu(attention)\n",
    "        outputs = self.ffn2(outputs)\n",
    "        outputs = self.dropout_2(outputs, training=training)\n",
    "        # Call to residual connection and the layer normalization\n",
    "        outputs = self.norm_2(outputs + attention)\n",
    "        \n",
    "        return outputs"
   ]
  },
  {
   "cell_type": "code",
   "execution_count": 19,
   "metadata": {
    "execution": {
     "iopub.execute_input": "2025-03-05T09:52:43.256733Z",
     "iopub.status.busy": "2025-03-05T09:52:43.256455Z",
     "iopub.status.idle": "2025-03-05T09:52:43.262778Z",
     "shell.execute_reply": "2025-03-05T09:52:43.261864Z",
     "shell.execute_reply.started": "2025-03-05T09:52:43.256712Z"
    },
    "executionInfo": {
     "elapsed": 428,
     "status": "ok",
     "timestamp": 1604164533414,
     "user": {
      "displayName": "Eduardo Muñoz Sala",
      "photoUrl": "https://lh3.googleusercontent.com/a-/AOh14Gi9gTFB7xfdxQyNiKRUzqE5vwb9WQjQuMtQz5F16w=s64",
      "userId": "13317831924226771761"
     },
     "user_tz": -60
    },
    "id": "P-P92KeZih60",
    "trusted": true
   },
   "outputs": [],
   "source": [
    "class Encoder(layers.Layer):\n",
    "    \n",
    "    def __init__(self,\n",
    "                 n_layers,\n",
    "                 FFN_units,\n",
    "                 n_heads,\n",
    "                 dropout_rate,\n",
    "                 vocab_size,\n",
    "                 d_model,\n",
    "                 name=\"encoder\"):\n",
    "        super(Encoder, self).__init__(name=name)\n",
    "        self.n_layers = n_layers\n",
    "        self.d_model = d_model\n",
    "        # The embedding layer\n",
    "        self.embedding = layers.Embedding(vocab_size, d_model)\n",
    "        # Positional encoding layer\n",
    "        self.pos_encoding = PositionalEncoding()\n",
    "        self.dropout = layers.Dropout(rate=dropout_rate)\n",
    "        # Stack of n layers of multi-head attention and FC\n",
    "        self.enc_layers = [EncoderLayer(FFN_units,\n",
    "                                        n_heads,\n",
    "                                        dropout_rate) \n",
    "                           for _ in range(n_layers)]\n",
    "    \n",
    "    def call(self, inputs, mask, training):\n",
    "        # Get the embedding vectors\n",
    "        outputs = self.embedding(inputs)\n",
    "        # Scale the embeddings by sqrt of d_model\n",
    "        outputs *= tf.math.sqrt(tf.cast(self.d_model, tf.float32))\n",
    "        # Positional encodding\n",
    "        outputs = self.pos_encoding(outputs)\n",
    "        outputs = self.dropout(outputs, training=training)\n",
    "        # Call the stacked layers\n",
    "        for i in range(self.n_layers):\n",
    "            outputs = self.enc_layers[i](outputs, mask, training=training)\n",
    "\n",
    "        return outputs"
   ]
  },
  {
   "cell_type": "code",
   "execution_count": 20,
   "metadata": {
    "execution": {
     "iopub.execute_input": "2025-03-05T09:52:45.645871Z",
     "iopub.status.busy": "2025-03-05T09:52:45.645551Z",
     "iopub.status.idle": "2025-03-05T09:52:45.653908Z",
     "shell.execute_reply": "2025-03-05T09:52:45.652790Z",
     "shell.execute_reply.started": "2025-03-05T09:52:45.645847Z"
    },
    "executionInfo": {
     "elapsed": 1018,
     "status": "ok",
     "timestamp": 1604164536304,
     "user": {
      "displayName": "Eduardo Muñoz Sala",
      "photoUrl": "https://lh3.googleusercontent.com/a-/AOh14Gi9gTFB7xfdxQyNiKRUzqE5vwb9WQjQuMtQz5F16w=s64",
      "userId": "13317831924226771761"
     },
     "user_tz": -60
    },
    "id": "7ZWZyFBnwy8u",
    "trusted": true
   },
   "outputs": [],
   "source": [
    "class DecoderLayer(layers.Layer):\n",
    "    \n",
    "    def __init__(self, FFN_units, n_heads, dropout_rate):\n",
    "        super(DecoderLayer, self).__init__()\n",
    "        self.FFN_units = FFN_units\n",
    "        self.n_heads = n_heads\n",
    "        self.dropout_rate = dropout_rate\n",
    "    \n",
    "    def build(self, input_shape):\n",
    "        self.d_model = input_shape[-1]\n",
    "        \n",
    "        # Self multi head attention, causal attention\n",
    "        self.multi_head_causal_attention = MultiHeadAttention(self.n_heads)\n",
    "        self.dropout_1 = layers.Dropout(rate=self.dropout_rate)\n",
    "        self.norm_1 = layers.LayerNormalization(epsilon=1e-6)\n",
    "        \n",
    "        # Multi head attention, encoder-decoder attention \n",
    "        self.multi_head_enc_dec_attention = MultiHeadAttention(self.n_heads)\n",
    "        self.dropout_2 = layers.Dropout(rate=self.dropout_rate)\n",
    "        self.norm_2 = layers.LayerNormalization(epsilon=1e-6)\n",
    "        \n",
    "        # Feed foward\n",
    "        self.ffn1_relu = layers.Dense(units=self.FFN_units,\n",
    "                                    activation=\"relu\")\n",
    "        self.ffn2 = layers.Dense(units=self.d_model)\n",
    "        self.dropout_3 = layers.Dropout(rate=self.dropout_rate)\n",
    "        self.norm_3 = layers.LayerNormalization(epsilon=1e-6)\n",
    "        \n",
    "    def call(self, inputs, enc_outputs, mask_1, mask_2, training):\n",
    "        # Call the masked causal attention\n",
    "        attention = self.multi_head_causal_attention(inputs,\n",
    "                                                inputs,\n",
    "                                                inputs,\n",
    "                                                mask_1)\n",
    "        attention = self.dropout_1(attention, training=training)\n",
    "        # Residual connection and layer normalization\n",
    "        attention = self.norm_1(attention + inputs)\n",
    "        # Call the encoder-decoder attention\n",
    "        attention_2 = self.multi_head_enc_dec_attention(attention,\n",
    "                                                  enc_outputs,\n",
    "                                                  enc_outputs,\n",
    "                                                  mask_2)\n",
    "        attention_2 = self.dropout_2(attention_2, training=training)\n",
    "        # Residual connection and layer normalization\n",
    "        attention_2 = self.norm_2(attention_2 + attention)\n",
    "        # Call the Feed forward\n",
    "        outputs = self.ffn1_relu(attention_2)\n",
    "        outputs = self.ffn2(outputs)\n",
    "        outputs = self.dropout_3(outputs, training=training)\n",
    "        # Residual connection and layer normalization\n",
    "        outputs = self.norm_3(outputs + attention_2)\n",
    "        \n",
    "        return outputs"
   ]
  },
  {
   "cell_type": "code",
   "execution_count": 21,
   "metadata": {
    "execution": {
     "iopub.execute_input": "2025-03-05T09:52:47.828641Z",
     "iopub.status.busy": "2025-03-05T09:52:47.828315Z",
     "iopub.status.idle": "2025-03-05T09:52:47.835014Z",
     "shell.execute_reply": "2025-03-05T09:52:47.834208Z",
     "shell.execute_reply.started": "2025-03-05T09:52:47.828615Z"
    },
    "executionInfo": {
     "elapsed": 907,
     "status": "ok",
     "timestamp": 1604164538109,
     "user": {
      "displayName": "Eduardo Muñoz Sala",
      "photoUrl": "https://lh3.googleusercontent.com/a-/AOh14Gi9gTFB7xfdxQyNiKRUzqE5vwb9WQjQuMtQz5F16w=s64",
      "userId": "13317831924226771761"
     },
     "user_tz": -60
    },
    "id": "kpzdiWHiwywF",
    "trusted": true
   },
   "outputs": [],
   "source": [
    "class Decoder(layers.Layer):\n",
    "    \n",
    "    def __init__(self,\n",
    "                 n_layers,\n",
    "                 FFN_units,\n",
    "                 n_heads,\n",
    "                 dropout_rate,\n",
    "                 vocab_size,\n",
    "                 d_model,\n",
    "                 name=\"decoder\"):\n",
    "        super(Decoder, self).__init__(name=name)\n",
    "        self.d_model = d_model\n",
    "        self.n_layers = n_layers\n",
    "        # Embedding layer\n",
    "        self.embedding = layers.Embedding(vocab_size, d_model)\n",
    "        # Positional encoding layer\n",
    "        self.pos_encoding = PositionalEncoding()\n",
    "        self.dropout = layers.Dropout(rate=dropout_rate)\n",
    "        # Stacked layers of multi-head attention and feed forward\n",
    "        self.dec_layers = [DecoderLayer(FFN_units,\n",
    "                                        n_heads,\n",
    "                                        dropout_rate) \n",
    "                           for _ in range(n_layers)]\n",
    "    \n",
    "    def call(self, inputs, enc_outputs, mask_1, mask_2, training):\n",
    "        # Get the embedding vectors\n",
    "        outputs = self.embedding(inputs)\n",
    "        # Scale by sqrt of d_model\n",
    "        outputs *= tf.math.sqrt(tf.cast(self.d_model, tf.float32))\n",
    "        # Positional encodding\n",
    "        outputs = self.pos_encoding(outputs)\n",
    "        outputs = self.dropout(outputs, training=training)\n",
    "        # Call the stacked layers\n",
    "        for i in range(self.n_layers):\n",
    "            outputs = self.dec_layers[i](outputs,\n",
    "                                         enc_outputs,\n",
    "                                         mask_1,\n",
    "                                         mask_2,\n",
    "                                         training=training)\n",
    "\n",
    "        return outputs"
   ]
  },
  {
   "cell_type": "code",
   "execution_count": 22,
   "metadata": {
    "execution": {
     "iopub.execute_input": "2025-03-05T09:52:50.454263Z",
     "iopub.status.busy": "2025-03-05T09:52:50.453922Z",
     "iopub.status.idle": "2025-03-05T09:52:50.461086Z",
     "shell.execute_reply": "2025-03-05T09:52:50.460335Z",
     "shell.execute_reply.started": "2025-03-05T09:52:50.454218Z"
    },
    "executionInfo": {
     "elapsed": 931,
     "status": "ok",
     "timestamp": 1604164541547,
     "user": {
      "displayName": "Eduardo Muñoz Sala",
      "photoUrl": "https://lh3.googleusercontent.com/a-/AOh14Gi9gTFB7xfdxQyNiKRUzqE5vwb9WQjQuMtQz5F16w=s64",
      "userId": "13317831924226771761"
     },
     "user_tz": -60
    },
    "id": "GqvqNjJPwyh-",
    "trusted": true
   },
   "outputs": [],
   "source": [
    "class Transformer(tf.keras.Model):\n",
    "    \n",
    "    def __init__(self,\n",
    "                 vocab_size_enc,\n",
    "                 vocab_size_dec,\n",
    "                 d_model,\n",
    "                 n_layers,\n",
    "                 FFN_units,\n",
    "                 n_heads,\n",
    "                 dropout_rate,\n",
    "                 name=\"transformer\"):\n",
    "        super(Transformer, self).__init__(name=name)\n",
    "        # Build the encoder\n",
    "        self.encoder = Encoder(n_layers,\n",
    "                               FFN_units,\n",
    "                               n_heads,\n",
    "                               dropout_rate,\n",
    "                               vocab_size_enc,\n",
    "                               d_model)\n",
    "        # Build the decoder\n",
    "        self.decoder = Decoder(n_layers,\n",
    "                               FFN_units,\n",
    "                               n_heads,\n",
    "                               dropout_rate,\n",
    "                               vocab_size_dec,\n",
    "                               d_model)\n",
    "        # build the linear transformation and softmax function\n",
    "        self.last_linear = layers.Dense(units=vocab_size_dec, name=\"lin_ouput\")\n",
    "    \n",
    "    def create_padding_mask(self, seq): #seq: (batch_size, seq_length)\n",
    "        # Create the mask for padding\n",
    "        mask = tf.cast(tf.math.equal(seq, 0), tf.float32)\n",
    "        return mask[:, tf.newaxis, tf.newaxis, :]\n",
    "\n",
    "    def create_look_ahead_mask(self, seq):\n",
    "        # Create the mask for the causal attention\n",
    "        seq_len = tf.shape(seq)[1]\n",
    "        look_ahead_mask = 1 - tf.linalg.band_part(tf.ones((seq_len, seq_len)), -1, 0)\n",
    "        return look_ahead_mask\n",
    "    \n",
    "    def call(self, enc_inputs, dec_inputs, training):\n",
    "        # Create the padding mask for the encoder\n",
    "        enc_mask = self.create_padding_mask(enc_inputs)\n",
    "        # Create the mask for the causal attention\n",
    "        dec_mask_1 = tf.maximum(\n",
    "            self.create_padding_mask(dec_inputs),\n",
    "            self.create_look_ahead_mask(dec_inputs)\n",
    "        )\n",
    "        # Create the mask for the encoder-decoder attention\n",
    "        dec_mask_2 = self.create_padding_mask(enc_inputs)\n",
    "        # Call the encoder\n",
    "        enc_outputs = self.encoder(enc_inputs, enc_mask, training=training)\n",
    "        # Call the decoder\n",
    "        dec_outputs = self.decoder(dec_inputs,\n",
    "                                   enc_outputs,\n",
    "                                   dec_mask_1,\n",
    "                                   dec_mask_2,\n",
    "                                   training=training)\n",
    "        # Call the Linear and Softmax functions\n",
    "        outputs = self.last_linear(dec_outputs)\n",
    "        \n",
    "        return outputs"
   ]
  },
  {
   "cell_type": "code",
   "execution_count": 23,
   "metadata": {
    "execution": {
     "iopub.execute_input": "2025-03-05T09:52:53.018059Z",
     "iopub.status.busy": "2025-03-05T09:52:53.017737Z",
     "iopub.status.idle": "2025-03-05T09:52:53.024052Z",
     "shell.execute_reply": "2025-03-05T09:52:53.023141Z",
     "shell.execute_reply.started": "2025-03-05T09:52:53.018032Z"
    },
    "executionInfo": {
     "elapsed": 935,
     "status": "ok",
     "timestamp": 1604164546949,
     "user": {
      "displayName": "Eduardo Muñoz Sala",
      "photoUrl": "https://lh3.googleusercontent.com/a-/AOh14Gi9gTFB7xfdxQyNiKRUzqE5vwb9WQjQuMtQz5F16w=s64",
      "userId": "13317831924226771761"
     },
     "user_tz": -60
    },
    "id": "AM6zndzkAxC0",
    "trusted": true
   },
   "outputs": [],
   "source": [
    "def loss_function(target, pred):\n",
    "    mask = tf.math.logical_not(tf.math.equal(target, 0))\n",
    "    loss_ = loss_object(target, pred)\n",
    "    \n",
    "    mask = tf.cast(mask, dtype=loss_.dtype)\n",
    "    loss_ *= mask\n",
    "    \n",
    "    return tf.reduce_mean(loss_)\n",
    "\n",
    "class CustomSchedule(tf.keras.optimizers.schedules.LearningRateSchedule):\n",
    "    \n",
    "    def __init__(self, d_model, warmup_steps=4000):\n",
    "        super(CustomSchedule, self).__init__()\n",
    "        \n",
    "        self.d_model = tf.cast(d_model, tf.float32)\n",
    "        self.warmup_steps = warmup_steps\n",
    "    \n",
    "    def __call__(self, step):\n",
    "        step = tf.cast(step, tf.float32)  # Cast step to float to avoid type issues.\n",
    "        arg1 = tf.math.rsqrt(step)\n",
    "        arg2 = step * (self.warmup_steps ** -1.5)\n",
    "        return tf.math.rsqrt(self.d_model) * tf.math.minimum(arg1, arg2)\n"
   ]
  },
  {
   "cell_type": "code",
   "execution_count": 24,
   "metadata": {
    "execution": {
     "iopub.execute_input": "2025-03-05T09:52:55.392076Z",
     "iopub.status.busy": "2025-03-05T09:52:55.391786Z",
     "iopub.status.idle": "2025-03-05T09:52:55.399058Z",
     "shell.execute_reply": "2025-03-05T09:52:55.398320Z",
     "shell.execute_reply.started": "2025-03-05T09:52:55.392056Z"
    },
    "executionInfo": {
     "elapsed": 1004,
     "status": "ok",
     "timestamp": 1604164550739,
     "user": {
      "displayName": "Eduardo Muñoz Sala",
      "photoUrl": "https://lh3.googleusercontent.com/a-/AOh14Gi9gTFB7xfdxQyNiKRUzqE5vwb9WQjQuMtQz5F16w=s64",
      "userId": "13317831924226771761"
     },
     "user_tz": -60
    },
    "id": "lhFK5kUx602K",
    "trusted": true
   },
   "outputs": [],
   "source": [
    "from tqdm import tqdm  # Import tqdm for progress bar\n",
    "\n",
    "def main_train(dataset, transformer, n_epochs, print_every=50):\n",
    "    ''' Train the transformer model for n_epochs using the data generator dataset'''\n",
    "    losses = []\n",
    "    accuracies = []\n",
    "\n",
    "    for epoch in range(n_epochs):\n",
    "        print(f\"Starting epoch {epoch+1}\")\n",
    "        start = time.time()\n",
    "\n",
    "        # Reset the loss and accuracy calculations\n",
    "        train_loss.reset_state()\n",
    "        train_accuracy.reset_state()\n",
    "\n",
    "        # Create a tqdm progress bar for the batch loop\n",
    "        progress_bar = tqdm(enumerate(dataset), total=len(dataset), desc=f\"Epoch {epoch+1}\", position=0, leave=True)\n",
    "\n",
    "        for batch, (enc_inputs, targets) in progress_bar:\n",
    "            # Set the decoder inputs\n",
    "            dec_inputs = targets[:, :-1]\n",
    "            # Set the target outputs, right-shifted\n",
    "            dec_outputs_real = targets[:, 1:]\n",
    "\n",
    "            with tf.GradientTape() as tape:\n",
    "                # Call the transformer and get the predicted output\n",
    "                predictions = transformer(enc_inputs, dec_inputs, training=True)\n",
    "                # Calculate the loss\n",
    "                loss = loss_function(dec_outputs_real, predictions)\n",
    "\n",
    "            # Update the weights and optimizer\n",
    "            gradients = tape.gradient(loss, transformer.trainable_variables)\n",
    "            optimizer.apply_gradients(zip(gradients, transformer.trainable_variables))\n",
    "\n",
    "            # Save and store the metrics\n",
    "            train_loss(loss)\n",
    "            train_accuracy(dec_outputs_real, predictions)\n",
    "\n",
    "            # Update tqdm progress bar description with live loss & accuracy\n",
    "            progress_bar.set_postfix(loss=train_loss.result().numpy(), accuracy=train_accuracy.result().numpy())\n",
    "\n",
    "            # Print every `print_every` batches\n",
    "            if batch % print_every == 0:\n",
    "                losses.append(train_loss.result().numpy())\n",
    "                accuracies.append(train_accuracy.result().numpy())\n",
    "\n",
    "        # Save checkpoint after each epoch\n",
    "        ckpt_save_path = ckpt_manager.save()\n",
    "        print(f\"Saving checkpoint for epoch {epoch+1} in {ckpt_save_path}\")\n",
    "        print(f\"Time for 1 epoch: {time.time() - start:.2f} secs\\n\")\n",
    "\n",
    "    return losses, accuracies"
   ]
  },
  {
   "cell_type": "code",
   "execution_count": 25,
   "metadata": {
    "execution": {
     "iopub.execute_input": "2025-03-05T09:52:57.712841Z",
     "iopub.status.busy": "2025-03-05T09:52:57.712511Z",
     "iopub.status.idle": "2025-03-05T09:52:57.716571Z",
     "shell.execute_reply": "2025-03-05T09:52:57.715799Z",
     "shell.execute_reply.started": "2025-03-05T09:52:57.712820Z"
    },
    "executionInfo": {
     "elapsed": 1309,
     "status": "ok",
     "timestamp": 1604164555141,
     "user": {
      "displayName": "Eduardo Muñoz Sala",
      "photoUrl": "https://lh3.googleusercontent.com/a-/AOh14Gi9gTFB7xfdxQyNiKRUzqE5vwb9WQjQuMtQz5F16w=s64",
      "userId": "13317831924226771761"
     },
     "user_tz": -60
    },
    "id": "QGmrQfakTKUV",
    "trusted": true
   },
   "outputs": [],
   "source": [
    "# Set hyperparamters for the model\n",
    "D_MODEL = 512 # 512\n",
    "N_LAYERS = 4 # 6\n",
    "FFN_UNITS = 512 # 2048\n",
    "N_HEADS = 8 # 8\n",
    "DROPOUT_RATE = 0.1 # 0.1\n"
   ]
  },
  {
   "cell_type": "code",
   "execution_count": 26,
   "metadata": {
    "execution": {
     "iopub.execute_input": "2025-03-05T09:52:59.037619Z",
     "iopub.status.busy": "2025-03-05T09:52:59.037342Z",
     "iopub.status.idle": "2025-03-05T09:52:59.281116Z",
     "shell.execute_reply": "2025-03-05T09:52:59.280495Z",
     "shell.execute_reply.started": "2025-03-05T09:52:59.037601Z"
    },
    "executionInfo": {
     "elapsed": 888,
     "status": "ok",
     "timestamp": 1604164565188,
     "user": {
      "displayName": "Eduardo Muñoz Sala",
      "photoUrl": "https://lh3.googleusercontent.com/a-/AOh14Gi9gTFB7xfdxQyNiKRUzqE5vwb9WQjQuMtQz5F16w=s64",
      "userId": "13317831924226771761"
     },
     "user_tz": -60
    },
    "id": "qiOdqQ5qPs8z",
    "trusted": true
   },
   "outputs": [],
   "source": [
    "# Clean the session\n",
    "tf.keras.backend.clear_session()\n",
    "# Create the Transformer model\n",
    "transformer = Transformer(vocab_size_enc=num_words_inputs,\n",
    "                          vocab_size_dec=num_words_output,\n",
    "                          d_model=D_MODEL,\n",
    "                          n_layers=N_LAYERS,\n",
    "                          FFN_units=FFN_UNITS,\n",
    "                          n_heads=N_HEADS,\n",
    "                          dropout_rate=DROPOUT_RATE)\n",
    "\n",
    "# Define a categorical cross entropy loss\n",
    "loss_object = tf.keras.losses.SparseCategoricalCrossentropy(from_logits=True,\n",
    "                                                            reduction=\"none\")\n",
    "# Define a metric to store the mean loss of every epoch\n",
    "train_loss = tf.keras.metrics.Mean(name=\"train_loss\")\n",
    "# Define a matric to save the accuracy in every epoch\n",
    "train_accuracy = tf.keras.metrics.SparseCategoricalAccuracy(name=\"train_accuracy\")\n",
    "# Create the scheduler for learning rate decay\n",
    "leaning_rate = CustomSchedule(D_MODEL)\n",
    "# Create the Adam optimizer\n",
    "optimizer = tf.keras.optimizers.Adam(leaning_rate,\n",
    "                                     beta_1=0.9,\n",
    "                                     beta_2=0.98,\n",
    "                                     epsilon=1e-9)\n",
    "        "
   ]
  },
  {
   "cell_type": "code",
   "execution_count": 27,
   "metadata": {
    "execution": {
     "iopub.execute_input": "2025-03-05T09:53:03.342599Z",
     "iopub.status.busy": "2025-03-05T09:53:03.342274Z",
     "iopub.status.idle": "2025-03-05T09:53:03.348314Z",
     "shell.execute_reply": "2025-03-05T09:53:03.347645Z",
     "shell.execute_reply.started": "2025-03-05T09:53:03.342565Z"
    },
    "executionInfo": {
     "elapsed": 1883,
     "status": "ok",
     "timestamp": 1604164597668,
     "user": {
      "displayName": "Eduardo Muñoz Sala",
      "photoUrl": "https://lh3.googleusercontent.com/a-/AOh14Gi9gTFB7xfdxQyNiKRUzqE5vwb9WQjQuMtQz5F16w=s64",
      "userId": "13317831924226771761"
     },
     "user_tz": -60
    },
    "id": "Nb_32PIU5Zkh",
    "trusted": true
   },
   "outputs": [],
   "source": [
    "#Create the Checkpoint \n",
    "ckpt = tf.train.Checkpoint(transformer=transformer,\n",
    "                           optimizer=optimizer)\n",
    "\n",
    "ckpt_manager = tf.train.CheckpointManager(ckpt, checkpoint_path, max_to_keep=5)\n",
    "\n",
    "if ckpt_manager.latest_checkpoint:\n",
    "    ckpt.restore(ckpt_manager.latest_checkpoint)\n",
    "    print(\"Last checkpoint restored.\")"
   ]
  },
  {
   "cell_type": "code",
   "execution_count": 28,
   "metadata": {
    "colab": {
     "base_uri": "https://localhost:8080/"
    },
    "execution": {
     "iopub.execute_input": "2025-03-05T09:53:05.075948Z",
     "iopub.status.busy": "2025-03-05T09:53:05.075672Z",
     "iopub.status.idle": "2025-03-05T11:19:16.194990Z",
     "shell.execute_reply": "2025-03-05T11:19:16.194184Z",
     "shell.execute_reply.started": "2025-03-05T09:53:05.075927Z"
    },
    "executionInfo": {
     "elapsed": 4836773,
     "status": "ok",
     "timestamp": 1604169439296,
     "user": {
      "displayName": "Eduardo Muñoz Sala",
      "photoUrl": "https://lh3.googleusercontent.com/a-/AOh14Gi9gTFB7xfdxQyNiKRUzqE5vwb9WQjQuMtQz5F16w=s64",
      "userId": "13317831924226771761"
     },
     "user_tz": -60
    },
    "id": "ND0NAyshNWHD",
    "outputId": "14be75e6-f9a6-48d4-e248-0550dc859343",
    "trusted": true
   },
   "outputs": [
    {
     "name": "stdout",
     "output_type": "stream",
     "text": [
      "Starting epoch 1\n"
     ]
    },
    {
     "name": "stderr",
     "output_type": "stream",
     "text": [
      "Epoch 1: 100%|██████████| 1553/1553 [28:58<00:00,  1.12s/it, accuracy=0.253, loss=1.96] \n"
     ]
    },
    {
     "name": "stdout",
     "output_type": "stream",
     "text": [
      "Saving checkpoint for epoch 1 in /content/drive/My Drive/Projects/Transformer_NMT/ckpt/ckpt-1\n",
      "Time for 1 epoch: 1739.23 secs\n",
      "\n",
      "Starting epoch 2\n"
     ]
    },
    {
     "name": "stderr",
     "output_type": "stream",
     "text": [
      "Epoch 2: 100%|██████████| 1553/1553 [28:39<00:00,  1.11s/it, accuracy=0.389, loss=0.809]\n"
     ]
    },
    {
     "name": "stdout",
     "output_type": "stream",
     "text": [
      "Saving checkpoint for epoch 2 in /content/drive/My Drive/Projects/Transformer_NMT/ckpt/ckpt-2\n",
      "Time for 1 epoch: 1720.16 secs\n",
      "\n",
      "Starting epoch 3\n"
     ]
    },
    {
     "name": "stderr",
     "output_type": "stream",
     "text": [
      "Epoch 3: 100%|██████████| 1553/1553 [28:30<00:00,  1.10s/it, accuracy=0.401, loss=0.713]\n"
     ]
    },
    {
     "name": "stdout",
     "output_type": "stream",
     "text": [
      "Saving checkpoint for epoch 3 in /content/drive/My Drive/Projects/Transformer_NMT/ckpt/ckpt-3\n",
      "Time for 1 epoch: 1711.72 secs\n",
      "\n"
     ]
    }
   ],
   "source": [
    "# Train the model\n",
    "losses, accuracies = main_train(dataset, transformer, EPOCHS, 100)"
   ]
  },
  {
   "cell_type": "code",
   "execution_count": 31,
   "metadata": {
    "execution": {
     "iopub.execute_input": "2025-03-05T11:19:16.581902Z",
     "iopub.status.busy": "2025-03-05T11:19:16.581678Z",
     "iopub.status.idle": "2025-03-05T11:19:16.591005Z",
     "shell.execute_reply": "2025-03-05T11:19:16.590311Z",
     "shell.execute_reply.started": "2025-03-05T11:19:16.581884Z"
    },
    "trusted": true
   },
   "outputs": [],
   "source": [
    "# Save tokenizers using their native method\n",
    "tokenizer_inputs.save_to_file('tokenizer_inputs.subword')\n",
    "tokenizer_outputs.save_to_file('tokenizer_outputs.subword')"
   ]
  },
  {
   "cell_type": "code",
   "execution_count": 42,
   "metadata": {
    "execution": {
     "iopub.execute_input": "2025-03-05T11:48:09.511861Z",
     "iopub.status.busy": "2025-03-05T11:48:09.511559Z",
     "iopub.status.idle": "2025-03-05T11:48:09.827960Z",
     "shell.execute_reply": "2025-03-05T11:48:09.827313Z",
     "shell.execute_reply.started": "2025-03-05T11:48:09.511839Z"
    },
    "trusted": true
   },
   "outputs": [],
   "source": [
    "transformer.save_weights(\"code_to_text_transformer_weights.weights.h5\")"
   ]
  },
  {
   "cell_type": "code",
   "execution_count": 33,
   "metadata": {
    "colab": {
     "base_uri": "https://localhost:8080/",
     "height": 336
    },
    "execution": {
     "iopub.execute_input": "2025-03-05T11:44:07.879560Z",
     "iopub.status.busy": "2025-03-05T11:44:07.879163Z",
     "iopub.status.idle": "2025-03-05T11:44:08.254776Z",
     "shell.execute_reply": "2025-03-05T11:44:08.253888Z",
     "shell.execute_reply.started": "2025-03-05T11:44:07.879531Z"
    },
    "executionInfo": {
     "elapsed": 1126,
     "status": "ok",
     "timestamp": 1604169624585,
     "user": {
      "displayName": "Eduardo Muñoz Sala",
      "photoUrl": "https://lh3.googleusercontent.com/a-/AOh14Gi9gTFB7xfdxQyNiKRUzqE5vwb9WQjQuMtQz5F16w=s64",
      "userId": "13317831924226771761"
     },
     "user_tz": -60
    },
    "id": "hGB3Lv7hthlL",
    "outputId": "6259aaab-db55-4455-ba13-5123b33ffff4",
    "trusted": true
   },
   "outputs": [
    {
     "data": {
      "image/png": "[encoded data removed]",
      "text/plain": [
       "<Figure size 1500x500 with 2 Axes>"
      ]
     },
     "metadata": {},
     "output_type": "display_data"
    }
   ],
   "source": [
    "fig, (ax1, ax2) = plt.subplots(1, 2, figsize=(15,5))\n",
    "# plot some data\n",
    "ax1.plot(losses, label='loss')\n",
    "#plt.plot(results.history['val_loss'], label='val_loss')\n",
    "ax1.set_title('Training Loss')\n",
    "ax1.legend()\n",
    "# accuracies\n",
    "ax2.plot(accuracies, label='acc')\n",
    "#plt.plot(results.history['val_accuracy_fn'], label='val_acc')\n",
    "ax2.set_title('Training Accuracy')\n",
    "ax2.legend()\n",
    "plt.show()"
   ]
  },
  {
   "cell_type": "code",
   "execution_count": 34,
   "metadata": {
    "execution": {
     "iopub.execute_input": "2025-03-05T11:44:22.659983Z",
     "iopub.status.busy": "2025-03-05T11:44:22.659681Z",
     "iopub.status.idle": "2025-03-05T11:44:22.665348Z",
     "shell.execute_reply": "2025-03-05T11:44:22.664526Z",
     "shell.execute_reply.started": "2025-03-05T11:44:22.659962Z"
    },
    "executionInfo": {
     "elapsed": 911,
     "status": "ok",
     "timestamp": 1604169631392,
     "user": {
      "displayName": "Eduardo Muñoz Sala",
      "photoUrl": "https://lh3.googleusercontent.com/a-/AOh14Gi9gTFB7xfdxQyNiKRUzqE5vwb9WQjQuMtQz5F16w=s64",
      "userId": "13317831924226771761"
     },
     "user_tz": -60
    },
    "id": "a6iJ7tPC-pk-",
    "trusted": true
   },
   "outputs": [],
   "source": [
    "def predict(inp_sentence, tokenizer_in, tokenizer_out, target_max_len):\n",
    "    # Tokenize the input sequence using the tokenizer_in\n",
    "    inp_sentence = sos_token_input + tokenizer_in.encode(inp_sentence) + eos_token_input\n",
    "    enc_input = tf.expand_dims(inp_sentence, axis=0)\n",
    "\n",
    "    # Set the initial output sentence to sos\n",
    "    out_sentence = sos_token_output\n",
    "    # Reshape the output\n",
    "    output = tf.expand_dims(out_sentence, axis=0)\n",
    "\n",
    "    # For max target len tokens\n",
    "    for _ in range(target_max_len):\n",
    "        # Call the transformer and get the logits \n",
    "        predictions = transformer(enc_input, output, training=False) #(1, seq_length, VOCAB_SIZE_ES)\n",
    "        # Extract the logists of the next word\n",
    "        prediction = predictions[:, -1:, :]\n",
    "        # The highest probability is taken\n",
    "        predicted_id = tf.cast(tf.argmax(prediction, axis=-1), tf.int32)\n",
    "        # Check if it is the eos token\n",
    "        if predicted_id == eos_token_output:\n",
    "            return tf.squeeze(output, axis=0)\n",
    "        # Concat the predicted word to the output sequence\n",
    "        output = tf.concat([output, predicted_id], axis=-1)\n",
    "\n",
    "    return tf.squeeze(output, axis=0)"
   ]
  },
  {
   "cell_type": "code",
   "execution_count": 35,
   "metadata": {
    "execution": {
     "iopub.execute_input": "2025-03-05T11:44:27.823661Z",
     "iopub.status.busy": "2025-03-05T11:44:27.823373Z",
     "iopub.status.idle": "2025-03-05T11:44:27.827843Z",
     "shell.execute_reply": "2025-03-05T11:44:27.826835Z",
     "shell.execute_reply.started": "2025-03-05T11:44:27.823640Z"
    },
    "executionInfo": {
     "elapsed": 961,
     "status": "ok",
     "timestamp": 1604169634817,
     "user": {
      "displayName": "Eduardo Muñoz Sala",
      "photoUrl": "https://lh3.googleusercontent.com/a-/AOh14Gi9gTFB7xfdxQyNiKRUzqE5vwb9WQjQuMtQz5F16w=s64",
      "userId": "13317831924226771761"
     },
     "user_tz": -60
    },
    "id": "s6VeFKrE6Kdx",
    "trusted": true
   },
   "outputs": [],
   "source": [
    "def translate(sentence):\n",
    "    # Get the predicted sequence for the input sentence\n",
    "    output = predict(sentence, tokenizer_inputs, tokenizer_outputs, MAX_LENGTH).numpy()\n",
    "    # Transform the sequence of tokens to a sentence\n",
    "    predicted_sentence = tokenizer_outputs.decode(\n",
    "        [i for i in output if i < sos_token_output]\n",
    "    )\n",
    "\n",
    "    return predicted_sentence"
   ]
  },
  {
   "cell_type": "code",
   "execution_count": 37,
   "metadata": {
    "colab": {
     "base_uri": "https://localhost:8080/"
    },
    "execution": {
     "iopub.execute_input": "2025-03-05T11:44:57.028575Z",
     "iopub.status.busy": "2025-03-05T11:44:57.028275Z",
     "iopub.status.idle": "2025-03-05T11:44:57.650395Z",
     "shell.execute_reply": "2025-03-05T11:44:57.649613Z",
     "shell.execute_reply.started": "2025-03-05T11:44:57.028554Z"
    },
    "executionInfo": {
     "elapsed": 1228,
     "status": "ok",
     "timestamp": 1604169639117,
     "user": {
      "displayName": "Eduardo Muñoz Sala",
      "photoUrl": "https://lh3.googleusercontent.com/a-/AOh14Gi9gTFB7xfdxQyNiKRUzqE5vwb9WQjQuMtQz5F16w=s64",
      "userId": "13317831924226771761"
     },
     "user_tz": -60
    },
    "id": "5rSkyBdTcY-5",
    "outputId": "23617a58-09c1-4a91-f86f-2cafeaef870b",
    "trusted": true
   },
   "outputs": [
    {
     "name": "stdout",
     "output_type": "stream",
     "text": [
      "Input sentence: string s;\n",
      "Output sentence: s = string\n"
     ]
    }
   ],
   "source": [
    "#Show some translations\n",
    "sentence = \"string s;\"\n",
    "print(\"Input sentence: {}\".format(sentence))\n",
    "predicted_sentence = translate(sentence)\n",
    "print(\"Output sentence: {}\".format(predicted_sentence))"
   ]
  },
  {
   "cell_type": "code",
   "execution_count": 38,
   "metadata": {
    "colab": {
     "base_uri": "https://localhost:8080/"
    },
    "execution": {
     "iopub.execute_input": "2025-03-05T11:45:24.653817Z",
     "iopub.status.busy": "2025-03-05T11:45:24.653529Z",
     "iopub.status.idle": "2025-03-05T11:45:25.569700Z",
     "shell.execute_reply": "2025-03-05T11:45:25.568967Z",
     "shell.execute_reply.started": "2025-03-05T11:45:24.653795Z"
    },
    "executionInfo": {
     "elapsed": 1387,
     "status": "ok",
     "timestamp": 1604169644539,
     "user": {
      "displayName": "Eduardo Muñoz Sala",
      "photoUrl": "https://lh3.googleusercontent.com/a-/AOh14Gi9gTFB7xfdxQyNiKRUzqE5vwb9WQjQuMtQz5F16w=s64",
      "userId": "13317831924226771761"
     },
     "user_tz": -60
    },
    "id": "AFTOO58Ncjiu",
    "outputId": "8e4b4473-0939-4f10-a954-8887b2168f0a",
    "trusted": true
   },
   "outputs": [
    {
     "name": "stdout",
     "output_type": "stream",
     "text": [
      "Input sentence: bool flag = false;\n",
      "Output sentence: create boolean flag = false\n"
     ]
    }
   ],
   "source": [
    "#Show some translations\n",
    "sentence = \"bool flag = false;\"\n",
    "print(\"Input sentence: {}\".format(sentence))\n",
    "predicted_sentence = translate(sentence)\n",
    "print(\"Output sentence: {}\".format(predicted_sentence))"
   ]
  },
  {
   "cell_type": "code",
   "execution_count": 43,
   "metadata": {
    "execution": {
     "iopub.execute_input": "2025-03-05T08:37:06.891011Z",
     "iopub.status.busy": "2025-03-05T08:37:06.890685Z",
     "iopub.status.idle": "2025-03-05T08:37:07.805322Z",
     "shell.execute_reply": "2025-03-05T08:37:07.804542Z",
     "shell.execute_reply.started": "2025-03-05T08:37:06.890981Z"
    },
    "trusted": true
   },
   "outputs": [
    {
     "name": "stdout",
     "output_type": "stream",
     "text": [
      "Input sentence: declare boolean called flag = false\n",
      "Output sentence: bool flag = false;\n"
     ]
    }
   ],
   "source": [
    "\n",
    "#Show some translations\n",
    "sentence = \"declare boolean called flag = false\"\n",
    "print(\"Input sentence: {}\".format(sentence))\n",
    "predicted_sentence = translate(sentence)\n",
    "print(\"Output sentence: {}\".format(predicted_sentence))"
   ]
  },
  {
   "cell_type": "code",
   "execution_count": 39,
   "metadata": {
    "execution": {
     "iopub.execute_input": "2025-03-05T11:46:09.845599Z",
     "iopub.status.busy": "2025-03-05T11:46:09.845265Z",
     "iopub.status.idle": "2025-03-05T11:46:12.157773Z",
     "shell.execute_reply": "2025-03-05T11:46:12.157021Z",
     "shell.execute_reply.started": "2025-03-05T11:46:09.845574Z"
    },
    "trusted": true
   },
   "outputs": [
    {
     "name": "stdout",
     "output_type": "stream",
     "text": [
      "Input sentence: if (flag == false && s[i] == '/')\n",
      "Output sentence: if flag is false, and s[i] is equal to 0\n"
     ]
    }
   ],
   "source": [
    "\n",
    "sentence = \"if (flag == false && s[i] == '/')\"\n",
    "print(\"Input sentence: {}\".format(sentence))\n",
    "predicted_sentence = translate(sentence)\n",
    "print(\"Output sentence: {}\".format(predicted_sentence))"
   ]
  },
  {
   "cell_type": "code",
   "execution_count": 41,
   "metadata": {
    "execution": {
     "iopub.execute_input": "2025-03-05T11:47:17.680248Z",
     "iopub.status.busy": "2025-03-05T11:47:17.679936Z",
     "iopub.status.idle": "2025-03-05T11:47:18.154271Z",
     "shell.execute_reply": "2025-03-05T11:47:18.153534Z",
     "shell.execute_reply.started": "2025-03-05T11:47:17.680207Z"
    },
    "trusted": true
   },
   "outputs": [
    {
     "name": "stdout",
     "output_type": "stream",
     "text": [
      "Input sentence: cin >> a;\n",
      "Output sentence: read a\n"
     ]
    }
   ],
   "source": [
    "\n",
    "sentence = \"cin >> a;\"\n",
    "print(\"Input sentence: {}\".format(sentence))\n",
    "predicted_sentence = translate(sentence)\n",
    "print(\"Output sentence: {}\".format(predicted_sentence))"
   ]
  },
  {
   "cell_type": "code",
   "execution_count": null,
   "metadata": {
    "trusted": true
   },
   "outputs": [],
   "source": []
  }
 ],
 "metadata": {
  "colab": {
   "collapsed_sections": [],
   "machine_shape": "hm",
   "name": "Transformer-NMT-en-es.ipynb",
   "provenance": [
    {
     "file_id": "16JmM4d_Wc3Eh1-iyjkA5_kw8qLDDFhr2",
     "timestamp": 1602519669782
    },
    {
     "file_id": "1i4a26jVRVsAIfAGCe5pnl4l51B6GvjWs",
     "timestamp": 1595454386969
    },
    {
     "file_id": "17dOcF-VlAVBY0vzgqaANGQ4taSNc2Wp6",
     "timestamp": 1571411676663
    }
   ],
   "toc_visible": true
  },
  "kaggle": {
   "accelerator": "nvidiaTeslaT4",
   "dataSources": [
    {
     "datasetId": 6723425,
     "sourceId": 10858846,
     "sourceType": "datasetVersion"
    },
    {
     "datasetId": 6794995,
     "sourceId": 10928661,
     "sourceType": "datasetVersion"
    }
   ],
   "dockerImageVersionId": 30919,
   "isGpuEnabled": true,
   "isInternetEnabled": true,
   "language": "python",
   "sourceType": "notebook"
  },
  "kernelspec": {
   "display_name": "Python 3",
   "language": "python",
   "name": "python3"
  },
  "language_info": {
   "codemirror_mode": {
    "name": "ipython",
    "version": 3
   },
   "file_extension": ".py",
   "mimetype": "text/x-python",
   "name": "python",
   "nbconvert_exporter": "python",
   "pygments_lexer": "ipython3",
   "version": "3.10.12"
  }
 },
 "nbformat": 4,
 "nbformat_minor": 4
}
